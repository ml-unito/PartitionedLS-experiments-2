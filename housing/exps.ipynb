{
 "cells": [
  {
   "attachments": {},
   "cell_type": "markdown",
   "metadata": {},
   "source": [
    "# Experiments with the Housing dataset\n",
    "\n",
    "## Intro\n",
    "\n",
    "The housing dataset has many ordinal features and several categorical ones. In order to work with least squares method we mapped ordinal features as specified in the following list (the numeric value assigned to the ordinal value names is the position in the list associated with the feature name, starting from zero). \n",
    "\n",
    "- LotArea: possibile serva un 1hot encoding\n",
    "- Street: si può determinare un ordine\n",
    "- Alley: si può determinare un ordine (N/A peggiore)\n",
    "- LotShape: IR3 - IR2 - IR1 - Reg\n",
    "- LandContour: 1 hot encoding \n",
    "- LotConfig: 1 hot encoding\n",
    "- LandSlope: Sev - Mod - Gtl\n",
    "- Utilities: ELO - NoSeWa - NoSewr - AllPub\n",
    "- Neighborhood: 1hot\n",
    "- Condition1: 1 hot\n",
    "- Condition2: 1 hot\n",
    "- BldgType: 1Fam, 1FmCon, TwnhsI, TwhsE, Duplx\n",
    "- HouseStyle: 1Story,  1.5Unf,  1.5Fin,  2Story,  2.5Unf,  2.5Fin,  SFoyer,  SLvl\n",
    "- RoofStyle: 1 hot \n",
    "- RoofMatl: 1 hot\n",
    "- Ext1,2: 1 hot\n",
    "- MasVnrType: 1 hot\n",
    "- ExterQual: Po, Fa, TA, Gd, Ex,\n",
    "- ExterCond: Po, Fa, TA, Gd, Ex\n",
    "- Foundation: Wood, Stone, Slab, PConc, CBlock, BrkTil\n",
    "- Functional: Sal, Sev, Maj2, Maj1, Mod, Min2, Min1, Typ\n",
    "- BsmtQual: NA, Po, Fa, TA, Gd, Ex\n",
    "- BsmtCond: NA, Po, Fa, TA, Gd, Ex\n",
    "- BsmtExposure: NA, No, Mn, Av, Gd\n",
    "- OverallQual: 1 ~ 10\n",
    "- BsmtFinType1: NA, Unf, LwQ, Rec, BLQ, ALQ, GLQ\n",
    "- BsmtFinType2: see above\n",
    "- Heating: onehot\n",
    "- Exterior 1st: onehot\n",
    "- Exterior 2nd: onehot\n",
    "- MasVnrType: onehot\n",
    "- HeatingQC: Po, Fa, TA, Gd, Ex\n",
    "- CentralAir: N, Y\n",
    "- Electrical: onehot\n",
    "- KitchenQual: Po, Fa, TA, Gd, Ex\n",
    "- FireplaceQu: NA, Po, Fa, TA, Gd, Ex\n",
    "- GarageType: NA, Detchd, CarPort, BuiltIn, Basment, Attchd, 2Types\n",
    "- GarageFinish: NA, Unf, RFn, Fin\n",
    "- GarageQual: NA, Po, Fa, TA, Gd, Ex\n",
    "- GarageCond: NA, Po, Fa, TA, Gd, Ex\n",
    "- PavedDrive: N, P, Y\n",
    "- PoolQC: NA, Fa, TA, Gd, Ex\n",
    "- Fence: NA, MnWw, GdWo, MnPrv, GdPrv\n",
    "- MiscFeature: onehot\n",
    "- Saletype: onehot\n",
    "- SaleCondition: onehot\n"
   ]
  },
  {
   "cell_type": "code",
   "execution_count": 4,
   "metadata": {},
   "outputs": [
    {
     "name": "stderr",
     "output_type": "stream",
     "text": [
      "\u001b[32m\u001b[1m  Activating\u001b[22m\u001b[39m new project at `~/UNITO/Research/PartitionedLeastSquares/Julia/PartitionedLS-experiments-2/housing/housing`\n"
     ]
    },
    {
     "ename": "ArgumentError",
     "evalue": "ArgumentError: Package CSV not found in current path, maybe you meant `import/using .CSV`.\n- Otherwise, run `import Pkg; Pkg.add(\"CSV\")` to install the CSV package.",
     "output_type": "error",
     "traceback": [
      "ArgumentError: Package CSV not found in current path, maybe you meant `import/using .CSV`.\n",
      "- Otherwise, run `import Pkg; Pkg.add(\"CSV\")` to install the CSV package.\n",
      "\n",
      "Stacktrace:\n",
      "  [1] macro expansion\n",
      "    @ ./loading.jl:1772 [inlined]\n",
      "  [2] macro expansion\n",
      "    @ ./lock.jl:267 [inlined]\n",
      "  [3] __require(into::Module, mod::Symbol)\n",
      "    @ Base ./loading.jl:1753\n",
      "  [4] #invoke_in_world#3\n",
      "    @ ./essentials.jl:926 [inlined]\n",
      "  [5] invoke_in_world\n",
      "    @ ./essentials.jl:923 [inlined]\n",
      "  [6] require(into::Module, mod::Symbol)\n",
      "    @ Base ./loading.jl:1746\n",
      "  [7] eval\n",
      "    @ ./boot.jl:385 [inlined]\n",
      "  [8] include_string(mapexpr::typeof(REPL.softscope), mod::Module, code::String, filename::String)\n",
      "    @ Base ./loading.jl:2076\n",
      "  [9] #invokelatest#2\n",
      "    @ ./essentials.jl:892 [inlined]\n",
      " [10] invokelatest\n",
      "    @ ./essentials.jl:889 [inlined]\n",
      " [11] (::VSCodeServer.var\"#214#215\"{VSCodeServer.NotebookRunCellArguments, String})()\n",
      "    @ VSCodeServer ~/.vscode/extensions/julialang.language-julia-1.75.2/scripts/packages/VSCodeServer/src/serve_notebook.jl:19\n",
      " [12] withpath(f::VSCodeServer.var\"#214#215\"{VSCodeServer.NotebookRunCellArguments, String}, path::String)\n",
      "    @ VSCodeServer ~/.vscode/extensions/julialang.language-julia-1.75.2/scripts/packages/VSCodeServer/src/repl.jl:274\n",
      " [13] notebook_runcell_request(conn::VSCodeServer.JSONRPC.JSONRPCEndpoint{Base.PipeEndpoint, Base.PipeEndpoint}, params::VSCodeServer.NotebookRunCellArguments)\n",
      "    @ VSCodeServer ~/.vscode/extensions/julialang.language-julia-1.75.2/scripts/packages/VSCodeServer/src/serve_notebook.jl:13\n",
      " [14] dispatch_msg(x::VSCodeServer.JSONRPC.JSONRPCEndpoint{Base.PipeEndpoint, Base.PipeEndpoint}, dispatcher::VSCodeServer.JSONRPC.MsgDispatcher, msg::Dict{String, Any})\n",
      "    @ VSCodeServer.JSONRPC ~/.vscode/extensions/julialang.language-julia-1.75.2/scripts/packages/JSONRPC/src/typed.jl:67\n",
      " [15] serve_notebook(pipename::String, outputchannel_logger::Base.CoreLogging.SimpleLogger; crashreporting_pipename::String)\n",
      "    @ VSCodeServer ~/.vscode/extensions/julialang.language-julia-1.75.2/scripts/packages/VSCodeServer/src/serve_notebook.jl:139\n",
      " [16] top-level scope\n",
      "    @ ~/.vscode/extensions/julialang.language-julia-1.75.2/scripts/notebook/notebook.jl:35"
     ]
    }
   ],
   "source": [
    "using Pkg\n",
    "Pkg.activate(\".\")\n",
    "\n",
    "using DataFrames\n",
    "using CSV\n",
    "using PartitionedLS\n",
    "using Statistics\n",
    "using Logging\n",
    "using MLJ\n",
    "using LinearAlgebra\n",
    "\n",
    "include(\"exps_helpers.jl\")"
   ]
  },
  {
   "attachments": {},
   "cell_type": "markdown",
   "metadata": {},
   "source": [
    "## Data Loading and preprocessing"
   ]
  },
  {
   "cell_type": "code",
   "execution_count": 6,
   "metadata": {},
   "outputs": [],
   "source": [
    "# Note: test data does not have SalePrice... ???\n",
    "cols = [\"MSSubClass\", \"MSZoning\", \"LotFrontage\", \"LotArea\", \"Street\", \"Alley\", \"LotShape\", \"LandContour\", \"LotConfig\", \"LandSlope\", \"Utilities\", \"Neighborhood\", \"Condition1\", \"Condition2\", \"YearBuilt\", \"YearRemodAdd\", \"BldgType\", \"HouseStyle\", \"OverallQual\", \"OverallCond\", \"RoofStyle\", \"RoofMatl\", \"Exterior1st\", \"Exterior2nd\", \"MasVnrType\", \"MasVnrArea\", \"ExterQual\", \"ExterCond\", \"Foundation\", \"Functional\", \"BsmtQual\", \"BsmtCond\", \"BsmtExposure\", \"BsmtFinType1\", \"BsmtFinSF1\", \"BsmtFinType2\", \"BsmtFinSF2\", \"BsmtUnfSF\", \"TotalBsmtSF\", \"Heating\", \"HeatingQC\", \"CentralAir\", \"Electrical\", \"Fireplaces\", \"FireplaceQu\", \"1stFlrSF\", \"2ndFlrSF\", \"LowQualFinSF\", \"GrLivArea\", \"BsmtFullBath\", \"BsmtHalfBath\", \"FullBath\", \"HalfBath\", \"BedroomAbvGr\", \"KitchenAbvGr\", \"KitchenQual\", \"TotRmsAbvGrd\", \"GarageType\", \"GarageYrBlt\", \"GarageFinish\", \"GarageCars\", \"GarageArea\", \"GarageQual\", \"GarageCond\", \"PavedDrive\", \"WoodDeckSF\", \"OpenPorchSF\", \"EnclosedPorch\", \"3SsnPorch\", \"ScreenPorch\", \"PoolArea\", \"PoolQC\", \"Fence\", \"MiscFeature\", \"MiscVal\", \"MoSold\", \"YrSold\", \"SaleType\", \"SaleCondition\"];\n",
    "data = CSV.File(\"train.csv\") |> DataFrame;\n",
    "\n",
    "Pdf = CSV.File(\"P.csv\") |> DataFrame;\n",
    "Xdf = data[!, cols]\n",
    "y = data[!, \"SalePrice\"];"
   ]
  },
  {
   "cell_type": "code",
   "execution_count": 7,
   "metadata": {},
   "outputs": [
    {
     "name": "stdout",
     "output_type": "stream",
     "text": [
      "LotDescritption: MSSubClass,MSZoning,LotFrontage,LotArea,Street,Alley,LotShape,LandContour,LotConfig,LandSlope\n",
      "BuildingPlacement: Utilities,Neighborhood,Condition1,Condition2\n",
      "BuildingAge: YearBuilt,YearRemodAdd\n",
      "BuildingQuality: BldgType,HouseStyle,OverallQual,OverallCond,RoofStyle,RoofMatl,Exterior1st,Exterior2nd,MasVnrType,MasVnrArea,ExterQual,ExterCond,Foundation,Functional\n",
      "Basement: BsmtQual,BsmtCond,BsmtExposure,BsmtFinType1,BsmtFinSF1,BsmtFinType2,BsmtFinSF2,BsmtUnfSF,TotalBsmtSF\n",
      "PowerAndTemperature: Heating,HeatingQC,CentralAir,Electrical,Fireplaces,FireplaceQu\n",
      "Sizes: 1stFlrSF,2ndFlrSF,LowQualFinSF,GrLivArea\n",
      "Rooms: BsmtFullBath,BsmtHalfBath,FullBath,HalfBath,BedroomAbvGr,KitchenAbvGr,KitchenQual,TotRmsAbvGrd\n",
      "OutsideFacilities: GarageType,GarageYrBlt,GarageFinish,GarageCars,GarageArea,GarageQual,GarageCond,PavedDrive,WoodDeckSF,OpenPorchSF,EnclosedPorch,3SsnPorch,ScreenPorch,PoolArea,PoolQC,Fence\n",
      "Various: MiscFeature,MiscVal,MoSold,YrSold,SaleType,SaleCondition\n"
     ]
    }
   ],
   "source": [
    "columns = names(Pdf)[2:end]\n",
    "\n",
    "for col in columns\n",
    "    print(col)\n",
    "    print(\": \")\n",
    "    println(join(filter(col => x -> x == 1, Pdf).Descriptor, \",\"))\n",
    "end\n",
    "\n",
    "\n",
    "\n",
    "# filter(:LotDescritption => x -> x == 1, Pdf).Descriptor"
   ]
  },
  {
   "attachments": {},
   "cell_type": "markdown",
   "metadata": {},
   "source": [
    "## Processing ordinal and categorical features"
   ]
  },
  {
   "cell_type": "code",
   "execution_count": 8,
   "metadata": {},
   "outputs": [
    {
     "data": {
      "text/plain": [
       "((1460, 79), (79, 11))"
      ]
     },
     "metadata": {},
     "output_type": "display_data"
    }
   ],
   "source": [
    "Xdf_clean = preprocess_ordinal_features!(Xdf)\n",
    "size(Xdf_clean), size(Pdf)"
   ]
  },
  {
   "cell_type": "code",
   "execution_count": 10,
   "metadata": {},
   "outputs": [
    {
     "data": {
      "text/html": [
       "<div><div style = \"float: left;\"><span>5×226 DataFrame</span></div><div style = \"float: right;\"><span style = \"font-style: italic;\">126 columns omitted</span></div><div style = \"clear: both;\"></div></div><div class = \"data-frame\" style = \"overflow-x: scroll;\"><table class = \"data-frame\" style = \"margin-bottom: 6px;\"><thead><tr class = \"header\"><th class = \"rowNumber\" style = \"font-weight: bold; text-align: right;\">Row</th><th style = \"text-align: left;\">LotFrontage</th><th style = \"text-align: left;\">LotArea</th><th style = \"text-align: left;\">Street</th><th style = \"text-align: left;\">Alley</th><th style = \"text-align: left;\">LotShape</th><th style = \"text-align: left;\">LandSlope</th><th style = \"text-align: left;\">Utilities</th><th style = \"text-align: left;\">YearBuilt</th><th style = \"text-align: left;\">YearRemodAdd</th><th style = \"text-align: left;\">OverallQual</th><th style = \"text-align: left;\">OverallCond</th><th style = \"text-align: left;\">MasVnrArea</th><th style = \"text-align: left;\">ExterQual</th><th style = \"text-align: left;\">ExterCond</th><th style = \"text-align: left;\">Foundation</th><th style = \"text-align: left;\">Functional</th><th style = \"text-align: left;\">BsmtQual</th><th style = \"text-align: left;\">BsmtCond</th><th style = \"text-align: left;\">BsmtExposure</th><th style = \"text-align: left;\">BsmtFinType1</th><th style = \"text-align: left;\">BsmtFinSF1</th><th style = \"text-align: left;\">BsmtFinType2</th><th style = \"text-align: left;\">BsmtFinSF2</th><th style = \"text-align: left;\">BsmtUnfSF</th><th style = \"text-align: left;\">TotalBsmtSF</th><th style = \"text-align: left;\">HeatingQC</th><th style = \"text-align: left;\">CentralAir</th><th style = \"text-align: left;\">Fireplaces</th><th style = \"text-align: left;\">FireplaceQu</th><th style = \"text-align: left;\">1stFlrSF</th><th style = \"text-align: left;\">2ndFlrSF</th><th style = \"text-align: left;\">LowQualFinSF</th><th style = \"text-align: left;\">GrLivArea</th><th style = \"text-align: left;\">BsmtFullBath</th><th style = \"text-align: left;\">BsmtHalfBath</th><th style = \"text-align: left;\">FullBath</th><th style = \"text-align: left;\">HalfBath</th><th style = \"text-align: left;\">BedroomAbvGr</th><th style = \"text-align: left;\">KitchenAbvGr</th><th style = \"text-align: left;\">KitchenQual</th><th style = \"text-align: left;\">TotRmsAbvGrd</th><th style = \"text-align: left;\">GarageType</th><th style = \"text-align: left;\">GarageYrBlt</th><th style = \"text-align: left;\">GarageFinish</th><th style = \"text-align: left;\">GarageCars</th><th style = \"text-align: left;\">GarageArea</th><th style = \"text-align: left;\">GarageQual</th><th style = \"text-align: left;\">GarageCond</th><th style = \"text-align: left;\">PavedDrive</th><th style = \"text-align: left;\">WoodDeckSF</th><th style = \"text-align: left;\">OpenPorchSF</th><th style = \"text-align: left;\">EnclosedPorch</th><th style = \"text-align: left;\">3SsnPorch</th><th style = \"text-align: left;\">ScreenPorch</th><th style = \"text-align: left;\">PoolArea</th><th style = \"text-align: left;\">PoolQC</th><th style = \"text-align: left;\">Fence</th><th style = \"text-align: left;\">MiscVal</th><th style = \"text-align: left;\">MoSold</th><th style = \"text-align: left;\">YrSold</th><th style = \"text-align: left;\">LandContour_Lvl</th><th style = \"text-align: left;\">LandContour_Bnk</th><th style = \"text-align: left;\">LandContour_Low</th><th style = \"text-align: left;\">LandContour_HLS</th><th style = \"text-align: left;\">LotConfig_Inside</th><th style = \"text-align: left;\">LotConfig_FR2</th><th style = \"text-align: left;\">LotConfig_Corner</th><th style = \"text-align: left;\">LotConfig_CulDSac</th><th style = \"text-align: left;\">LotConfig_FR3</th><th style = \"text-align: left;\">Neighborhood_CollgCr</th><th style = \"text-align: left;\">Neighborhood_Veenker</th><th style = \"text-align: left;\">Neighborhood_Crawfor</th><th style = \"text-align: left;\">Neighborhood_NoRidge</th><th style = \"text-align: left;\">Neighborhood_Mitchel</th><th style = \"text-align: left;\">Neighborhood_Somerst</th><th style = \"text-align: left;\">Neighborhood_NWAmes</th><th style = \"text-align: left;\">Neighborhood_OldTown</th><th style = \"text-align: left;\">Neighborhood_BrkSide</th><th style = \"text-align: left;\">Neighborhood_Sawyer</th><th style = \"text-align: left;\">Neighborhood_NridgHt</th><th style = \"text-align: left;\">Neighborhood_NAmes</th><th style = \"text-align: left;\">Neighborhood_SawyerW</th><th style = \"text-align: left;\">Neighborhood_IDOTRR</th><th style = \"text-align: left;\">Neighborhood_MeadowV</th><th style = \"text-align: left;\">Neighborhood_Edwards</th><th style = \"text-align: left;\">Neighborhood_Timber</th><th style = \"text-align: left;\">Neighborhood_Gilbert</th><th style = \"text-align: left;\">Neighborhood_StoneBr</th><th style = \"text-align: left;\">Neighborhood_ClearCr</th><th style = \"text-align: left;\">Neighborhood_NPkVill</th><th style = \"text-align: left;\">Neighborhood_Blmngtn</th><th style = \"text-align: left;\">Neighborhood_BrDale</th><th style = \"text-align: left;\">Neighborhood_SWISU</th><th style = \"text-align: left;\">Neighborhood_Blueste</th><th style = \"text-align: left;\">Condition1_Norm</th><th style = \"text-align: left;\">Condition1_Feedr</th><th style = \"text-align: left;\">Condition1_PosN</th><th style = \"text-align: left;\">Condition1_Artery</th><th style = \"text-align: left;\">Condition1_RRAe</th><th style = \"text-align: left;\">Condition1_RRNn</th><th style = \"text-align: right;\">&ctdot;</th></tr><tr class = \"subheader headerLastRow\"><th class = \"rowNumber\" style = \"font-weight: bold; text-align: right;\"></th><th title = \"String3\" style = \"text-align: left;\">String3</th><th title = \"Int64\" style = \"text-align: left;\">Int64</th><th title = \"Int64\" style = \"text-align: left;\">Int64</th><th title = \"Int64\" style = \"text-align: left;\">Int64</th><th title = \"Int64\" style = \"text-align: left;\">Int64</th><th title = \"Int64\" style = \"text-align: left;\">Int64</th><th title = \"Int64\" style = \"text-align: left;\">Int64</th><th title = \"Int64\" style = \"text-align: left;\">Int64</th><th title = \"Int64\" style = \"text-align: left;\">Int64</th><th title = \"Int64\" style = \"text-align: left;\">Int64</th><th title = \"Int64\" style = \"text-align: left;\">Int64</th><th title = \"String7\" style = \"text-align: left;\">String7</th><th title = \"Int64\" style = \"text-align: left;\">Int64</th><th title = \"Int64\" style = \"text-align: left;\">Int64</th><th title = \"Int64\" style = \"text-align: left;\">Int64</th><th title = \"Int64\" style = \"text-align: left;\">Int64</th><th title = \"Int64\" style = \"text-align: left;\">Int64</th><th title = \"Int64\" style = \"text-align: left;\">Int64</th><th title = \"Int64\" style = \"text-align: left;\">Int64</th><th title = \"Int64\" style = \"text-align: left;\">Int64</th><th title = \"Int64\" style = \"text-align: left;\">Int64</th><th title = \"Int64\" style = \"text-align: left;\">Int64</th><th title = \"Int64\" style = \"text-align: left;\">Int64</th><th title = \"Int64\" style = \"text-align: left;\">Int64</th><th title = \"Int64\" style = \"text-align: left;\">Int64</th><th title = \"Int64\" style = \"text-align: left;\">Int64</th><th title = \"Int64\" style = \"text-align: left;\">Int64</th><th title = \"Int64\" style = \"text-align: left;\">Int64</th><th title = \"Int64\" style = \"text-align: left;\">Int64</th><th title = \"Int64\" style = \"text-align: left;\">Int64</th><th title = \"Int64\" style = \"text-align: left;\">Int64</th><th title = \"Int64\" style = \"text-align: left;\">Int64</th><th title = \"Int64\" style = \"text-align: left;\">Int64</th><th title = \"Int64\" style = \"text-align: left;\">Int64</th><th title = \"Int64\" style = \"text-align: left;\">Int64</th><th title = \"Int64\" style = \"text-align: left;\">Int64</th><th title = \"Int64\" style = \"text-align: left;\">Int64</th><th title = \"Int64\" style = \"text-align: left;\">Int64</th><th title = \"Int64\" style = \"text-align: left;\">Int64</th><th title = \"Int64\" style = \"text-align: left;\">Int64</th><th title = \"Int64\" style = \"text-align: left;\">Int64</th><th title = \"Int64\" style = \"text-align: left;\">Int64</th><th title = \"String7\" style = \"text-align: left;\">String7</th><th title = \"Int64\" style = \"text-align: left;\">Int64</th><th title = \"Int64\" style = \"text-align: left;\">Int64</th><th title = \"Int64\" style = \"text-align: left;\">Int64</th><th title = \"Int64\" style = \"text-align: left;\">Int64</th><th title = \"Int64\" style = \"text-align: left;\">Int64</th><th title = \"Int64\" style = \"text-align: left;\">Int64</th><th title = \"Int64\" style = \"text-align: left;\">Int64</th><th title = \"Int64\" style = \"text-align: left;\">Int64</th><th title = \"Int64\" style = \"text-align: left;\">Int64</th><th title = \"Int64\" style = \"text-align: left;\">Int64</th><th title = \"Int64\" style = \"text-align: left;\">Int64</th><th title = \"Int64\" style = \"text-align: left;\">Int64</th><th title = \"Int64\" style = \"text-align: left;\">Int64</th><th title = \"Int64\" style = \"text-align: left;\">Int64</th><th title = \"Int64\" style = \"text-align: left;\">Int64</th><th title = \"Int64\" style = \"text-align: left;\">Int64</th><th title = \"Int64\" style = \"text-align: left;\">Int64</th><th title = \"Int64\" style = \"text-align: left;\">Int64</th><th title = \"Int64\" style = \"text-align: left;\">Int64</th><th title = \"Int64\" style = \"text-align: left;\">Int64</th><th title = \"Int64\" style = \"text-align: left;\">Int64</th><th title = \"Int64\" style = \"text-align: left;\">Int64</th><th title = \"Int64\" style = \"text-align: left;\">Int64</th><th title = \"Int64\" style = \"text-align: left;\">Int64</th><th title = \"Int64\" style = \"text-align: left;\">Int64</th><th title = \"Int64\" style = \"text-align: left;\">Int64</th><th title = \"Int64\" style = \"text-align: left;\">Int64</th><th title = \"Int64\" style = \"text-align: left;\">Int64</th><th title = \"Int64\" style = \"text-align: left;\">Int64</th><th title = \"Int64\" style = \"text-align: left;\">Int64</th><th title = \"Int64\" style = \"text-align: left;\">Int64</th><th title = \"Int64\" style = \"text-align: left;\">Int64</th><th title = \"Int64\" style = \"text-align: left;\">Int64</th><th title = \"Int64\" style = \"text-align: left;\">Int64</th><th title = \"Int64\" style = \"text-align: left;\">Int64</th><th title = \"Int64\" style = \"text-align: left;\">Int64</th><th title = \"Int64\" style = \"text-align: left;\">Int64</th><th title = \"Int64\" style = \"text-align: left;\">Int64</th><th title = \"Int64\" style = \"text-align: left;\">Int64</th><th title = \"Int64\" style = \"text-align: left;\">Int64</th><th title = \"Int64\" style = \"text-align: left;\">Int64</th><th title = \"Int64\" style = \"text-align: left;\">Int64</th><th title = \"Int64\" style = \"text-align: left;\">Int64</th><th title = \"Int64\" style = \"text-align: left;\">Int64</th><th title = \"Int64\" style = \"text-align: left;\">Int64</th><th title = \"Int64\" style = \"text-align: left;\">Int64</th><th title = \"Int64\" style = \"text-align: left;\">Int64</th><th title = \"Int64\" style = \"text-align: left;\">Int64</th><th title = \"Int64\" style = \"text-align: left;\">Int64</th><th title = \"Int64\" style = \"text-align: left;\">Int64</th><th title = \"Int64\" style = \"text-align: left;\">Int64</th><th title = \"Int64\" style = \"text-align: left;\">Int64</th><th title = \"Int64\" style = \"text-align: left;\">Int64</th><th title = \"Int64\" style = \"text-align: left;\">Int64</th><th title = \"Int64\" style = \"text-align: left;\">Int64</th><th title = \"Int64\" style = \"text-align: left;\">Int64</th><th title = \"Int64\" style = \"text-align: left;\">Int64</th><th title = \"Int64\" style = \"text-align: right;\">&ctdot;</th></tr></thead><tbody><tr><td class = \"rowNumber\" style = \"font-weight: bold; text-align: right;\">1</td><td style = \"text-align: left;\">65</td><td style = \"text-align: right;\">8450</td><td style = \"text-align: right;\">1</td><td style = \"text-align: right;\">0</td><td style = \"text-align: right;\">3</td><td style = \"text-align: right;\">2</td><td style = \"text-align: right;\">3</td><td style = \"text-align: right;\">2003</td><td style = \"text-align: right;\">2003</td><td style = \"text-align: right;\">7</td><td style = \"text-align: right;\">5</td><td style = \"text-align: left;\">196</td><td style = \"text-align: right;\">3</td><td style = \"text-align: right;\">2</td><td style = \"text-align: right;\">3</td><td style = \"text-align: right;\">7</td><td style = \"text-align: right;\">4</td><td style = \"text-align: right;\">3</td><td style = \"text-align: right;\">1</td><td style = \"text-align: right;\">6</td><td style = \"text-align: right;\">706</td><td style = \"text-align: right;\">1</td><td style = \"text-align: right;\">0</td><td style = \"text-align: right;\">150</td><td style = \"text-align: right;\">856</td><td style = \"text-align: right;\">4</td><td style = \"text-align: right;\">1</td><td style = \"text-align: right;\">0</td><td style = \"text-align: right;\">0</td><td style = \"text-align: right;\">856</td><td style = \"text-align: right;\">854</td><td style = \"text-align: right;\">0</td><td style = \"text-align: right;\">1710</td><td style = \"text-align: right;\">1</td><td style = \"text-align: right;\">0</td><td style = \"text-align: right;\">2</td><td style = \"text-align: right;\">1</td><td style = \"text-align: right;\">3</td><td style = \"text-align: right;\">1</td><td style = \"text-align: right;\">3</td><td style = \"text-align: right;\">8</td><td style = \"text-align: right;\">5</td><td style = \"text-align: left;\">2003</td><td style = \"text-align: right;\">2</td><td style = \"text-align: right;\">2</td><td style = \"text-align: right;\">548</td><td style = \"text-align: right;\">3</td><td style = \"text-align: right;\">3</td><td style = \"text-align: right;\">2</td><td style = \"text-align: right;\">0</td><td style = \"text-align: right;\">61</td><td style = \"text-align: right;\">0</td><td style = \"text-align: right;\">0</td><td style = \"text-align: right;\">0</td><td style = \"text-align: right;\">0</td><td style = \"text-align: right;\">0</td><td style = \"text-align: right;\">0</td><td style = \"text-align: right;\">0</td><td style = \"text-align: right;\">2</td><td style = \"text-align: right;\">2008</td><td style = \"text-align: right;\">1</td><td style = \"text-align: right;\">0</td><td style = \"text-align: right;\">0</td><td style = \"text-align: right;\">0</td><td style = \"text-align: right;\">1</td><td style = \"text-align: right;\">0</td><td style = \"text-align: right;\">0</td><td style = \"text-align: right;\">0</td><td style = \"text-align: right;\">0</td><td style = \"text-align: right;\">1</td><td style = \"text-align: right;\">0</td><td style = \"text-align: right;\">0</td><td style = \"text-align: right;\">0</td><td style = \"text-align: right;\">0</td><td style = \"text-align: right;\">0</td><td style = \"text-align: right;\">0</td><td style = \"text-align: right;\">0</td><td style = \"text-align: right;\">0</td><td style = \"text-align: right;\">0</td><td style = \"text-align: right;\">0</td><td style = \"text-align: right;\">0</td><td style = \"text-align: right;\">0</td><td style = \"text-align: right;\">0</td><td style = \"text-align: right;\">0</td><td style = \"text-align: right;\">0</td><td style = \"text-align: right;\">0</td><td style = \"text-align: right;\">0</td><td style = \"text-align: right;\">0</td><td style = \"text-align: right;\">0</td><td style = \"text-align: right;\">0</td><td style = \"text-align: right;\">0</td><td style = \"text-align: right;\">0</td><td style = \"text-align: right;\">0</td><td style = \"text-align: right;\">0</td><td style = \"text-align: right;\">1</td><td style = \"text-align: right;\">0</td><td style = \"text-align: right;\">0</td><td style = \"text-align: right;\">0</td><td style = \"text-align: right;\">0</td><td style = \"text-align: right;\">0</td><td style = \"text-align: right;\">&ctdot;</td></tr><tr><td class = \"rowNumber\" style = \"font-weight: bold; text-align: right;\">2</td><td style = \"text-align: left;\">80</td><td style = \"text-align: right;\">9600</td><td style = \"text-align: right;\">1</td><td style = \"text-align: right;\">0</td><td style = \"text-align: right;\">3</td><td style = \"text-align: right;\">2</td><td style = \"text-align: right;\">3</td><td style = \"text-align: right;\">1976</td><td style = \"text-align: right;\">1976</td><td style = \"text-align: right;\">6</td><td style = \"text-align: right;\">8</td><td style = \"text-align: left;\">0</td><td style = \"text-align: right;\">2</td><td style = \"text-align: right;\">2</td><td style = \"text-align: right;\">4</td><td style = \"text-align: right;\">7</td><td style = \"text-align: right;\">4</td><td style = \"text-align: right;\">3</td><td style = \"text-align: right;\">4</td><td style = \"text-align: right;\">5</td><td style = \"text-align: right;\">978</td><td style = \"text-align: right;\">1</td><td style = \"text-align: right;\">0</td><td style = \"text-align: right;\">284</td><td style = \"text-align: right;\">1262</td><td style = \"text-align: right;\">4</td><td style = \"text-align: right;\">1</td><td style = \"text-align: right;\">1</td><td style = \"text-align: right;\">3</td><td style = \"text-align: right;\">1262</td><td style = \"text-align: right;\">0</td><td style = \"text-align: right;\">0</td><td style = \"text-align: right;\">1262</td><td style = \"text-align: right;\">0</td><td style = \"text-align: right;\">1</td><td style = \"text-align: right;\">2</td><td style = \"text-align: right;\">0</td><td style = \"text-align: right;\">3</td><td style = \"text-align: right;\">1</td><td style = \"text-align: right;\">2</td><td style = \"text-align: right;\">6</td><td style = \"text-align: right;\">5</td><td style = \"text-align: left;\">1976</td><td style = \"text-align: right;\">2</td><td style = \"text-align: right;\">2</td><td style = \"text-align: right;\">460</td><td style = \"text-align: right;\">3</td><td style = \"text-align: right;\">3</td><td style = \"text-align: right;\">2</td><td style = \"text-align: right;\">298</td><td style = \"text-align: right;\">0</td><td style = \"text-align: right;\">0</td><td style = \"text-align: right;\">0</td><td style = \"text-align: right;\">0</td><td style = \"text-align: right;\">0</td><td style = \"text-align: right;\">0</td><td style = \"text-align: right;\">0</td><td style = \"text-align: right;\">0</td><td style = \"text-align: right;\">5</td><td style = \"text-align: right;\">2007</td><td style = \"text-align: right;\">1</td><td style = \"text-align: right;\">0</td><td style = \"text-align: right;\">0</td><td style = \"text-align: right;\">0</td><td style = \"text-align: right;\">0</td><td style = \"text-align: right;\">1</td><td style = \"text-align: right;\">0</td><td style = \"text-align: right;\">0</td><td style = \"text-align: right;\">0</td><td style = \"text-align: right;\">0</td><td style = \"text-align: right;\">1</td><td style = \"text-align: right;\">0</td><td style = \"text-align: right;\">0</td><td style = \"text-align: right;\">0</td><td style = \"text-align: right;\">0</td><td style = \"text-align: right;\">0</td><td style = \"text-align: right;\">0</td><td style = \"text-align: right;\">0</td><td style = \"text-align: right;\">0</td><td style = \"text-align: right;\">0</td><td style = \"text-align: right;\">0</td><td style = \"text-align: right;\">0</td><td style = \"text-align: right;\">0</td><td style = \"text-align: right;\">0</td><td style = \"text-align: right;\">0</td><td style = \"text-align: right;\">0</td><td style = \"text-align: right;\">0</td><td style = \"text-align: right;\">0</td><td style = \"text-align: right;\">0</td><td style = \"text-align: right;\">0</td><td style = \"text-align: right;\">0</td><td style = \"text-align: right;\">0</td><td style = \"text-align: right;\">0</td><td style = \"text-align: right;\">0</td><td style = \"text-align: right;\">0</td><td style = \"text-align: right;\">1</td><td style = \"text-align: right;\">0</td><td style = \"text-align: right;\">0</td><td style = \"text-align: right;\">0</td><td style = \"text-align: right;\">0</td><td style = \"text-align: right;\">&ctdot;</td></tr><tr><td class = \"rowNumber\" style = \"font-weight: bold; text-align: right;\">3</td><td style = \"text-align: left;\">68</td><td style = \"text-align: right;\">11250</td><td style = \"text-align: right;\">1</td><td style = \"text-align: right;\">0</td><td style = \"text-align: right;\">2</td><td style = \"text-align: right;\">2</td><td style = \"text-align: right;\">3</td><td style = \"text-align: right;\">2001</td><td style = \"text-align: right;\">2002</td><td style = \"text-align: right;\">7</td><td style = \"text-align: right;\">5</td><td style = \"text-align: left;\">162</td><td style = \"text-align: right;\">3</td><td style = \"text-align: right;\">2</td><td style = \"text-align: right;\">3</td><td style = \"text-align: right;\">7</td><td style = \"text-align: right;\">4</td><td style = \"text-align: right;\">3</td><td style = \"text-align: right;\">2</td><td style = \"text-align: right;\">6</td><td style = \"text-align: right;\">486</td><td style = \"text-align: right;\">1</td><td style = \"text-align: right;\">0</td><td style = \"text-align: right;\">434</td><td style = \"text-align: right;\">920</td><td style = \"text-align: right;\">4</td><td style = \"text-align: right;\">1</td><td style = \"text-align: right;\">1</td><td style = \"text-align: right;\">3</td><td style = \"text-align: right;\">920</td><td style = \"text-align: right;\">866</td><td style = \"text-align: right;\">0</td><td style = \"text-align: right;\">1786</td><td style = \"text-align: right;\">1</td><td style = \"text-align: right;\">0</td><td style = \"text-align: right;\">2</td><td style = \"text-align: right;\">1</td><td style = \"text-align: right;\">3</td><td style = \"text-align: right;\">1</td><td style = \"text-align: right;\">3</td><td style = \"text-align: right;\">6</td><td style = \"text-align: right;\">5</td><td style = \"text-align: left;\">2001</td><td style = \"text-align: right;\">2</td><td style = \"text-align: right;\">2</td><td style = \"text-align: right;\">608</td><td style = \"text-align: right;\">3</td><td style = \"text-align: right;\">3</td><td style = \"text-align: right;\">2</td><td style = \"text-align: right;\">0</td><td style = \"text-align: right;\">42</td><td style = \"text-align: right;\">0</td><td style = \"text-align: right;\">0</td><td style = \"text-align: right;\">0</td><td style = \"text-align: right;\">0</td><td style = \"text-align: right;\">0</td><td style = \"text-align: right;\">0</td><td style = \"text-align: right;\">0</td><td style = \"text-align: right;\">9</td><td style = \"text-align: right;\">2008</td><td style = \"text-align: right;\">1</td><td style = \"text-align: right;\">0</td><td style = \"text-align: right;\">0</td><td style = \"text-align: right;\">0</td><td style = \"text-align: right;\">1</td><td style = \"text-align: right;\">0</td><td style = \"text-align: right;\">0</td><td style = \"text-align: right;\">0</td><td style = \"text-align: right;\">0</td><td style = \"text-align: right;\">1</td><td style = \"text-align: right;\">0</td><td style = \"text-align: right;\">0</td><td style = \"text-align: right;\">0</td><td style = \"text-align: right;\">0</td><td style = \"text-align: right;\">0</td><td style = \"text-align: right;\">0</td><td style = \"text-align: right;\">0</td><td style = \"text-align: right;\">0</td><td style = \"text-align: right;\">0</td><td style = \"text-align: right;\">0</td><td style = \"text-align: right;\">0</td><td style = \"text-align: right;\">0</td><td style = \"text-align: right;\">0</td><td style = \"text-align: right;\">0</td><td style = \"text-align: right;\">0</td><td style = \"text-align: right;\">0</td><td style = \"text-align: right;\">0</td><td style = \"text-align: right;\">0</td><td style = \"text-align: right;\">0</td><td style = \"text-align: right;\">0</td><td style = \"text-align: right;\">0</td><td style = \"text-align: right;\">0</td><td style = \"text-align: right;\">0</td><td style = \"text-align: right;\">0</td><td style = \"text-align: right;\">1</td><td style = \"text-align: right;\">0</td><td style = \"text-align: right;\">0</td><td style = \"text-align: right;\">0</td><td style = \"text-align: right;\">0</td><td style = \"text-align: right;\">0</td><td style = \"text-align: right;\">&ctdot;</td></tr><tr><td class = \"rowNumber\" style = \"font-weight: bold; text-align: right;\">4</td><td style = \"text-align: left;\">60</td><td style = \"text-align: right;\">9550</td><td style = \"text-align: right;\">1</td><td style = \"text-align: right;\">0</td><td style = \"text-align: right;\">2</td><td style = \"text-align: right;\">2</td><td style = \"text-align: right;\">3</td><td style = \"text-align: right;\">1915</td><td style = \"text-align: right;\">1970</td><td style = \"text-align: right;\">7</td><td style = \"text-align: right;\">5</td><td style = \"text-align: left;\">0</td><td style = \"text-align: right;\">2</td><td style = \"text-align: right;\">2</td><td style = \"text-align: right;\">5</td><td style = \"text-align: right;\">7</td><td style = \"text-align: right;\">3</td><td style = \"text-align: right;\">4</td><td style = \"text-align: right;\">1</td><td style = \"text-align: right;\">5</td><td style = \"text-align: right;\">216</td><td style = \"text-align: right;\">1</td><td style = \"text-align: right;\">0</td><td style = \"text-align: right;\">540</td><td style = \"text-align: right;\">756</td><td style = \"text-align: right;\">3</td><td style = \"text-align: right;\">1</td><td style = \"text-align: right;\">1</td><td style = \"text-align: right;\">4</td><td style = \"text-align: right;\">961</td><td style = \"text-align: right;\">756</td><td style = \"text-align: right;\">0</td><td style = \"text-align: right;\">1717</td><td style = \"text-align: right;\">1</td><td style = \"text-align: right;\">0</td><td style = \"text-align: right;\">1</td><td style = \"text-align: right;\">0</td><td style = \"text-align: right;\">3</td><td style = \"text-align: right;\">1</td><td style = \"text-align: right;\">3</td><td style = \"text-align: right;\">7</td><td style = \"text-align: right;\">1</td><td style = \"text-align: left;\">1998</td><td style = \"text-align: right;\">1</td><td style = \"text-align: right;\">3</td><td style = \"text-align: right;\">642</td><td style = \"text-align: right;\">3</td><td style = \"text-align: right;\">3</td><td style = \"text-align: right;\">2</td><td style = \"text-align: right;\">0</td><td style = \"text-align: right;\">35</td><td style = \"text-align: right;\">272</td><td style = \"text-align: right;\">0</td><td style = \"text-align: right;\">0</td><td style = \"text-align: right;\">0</td><td style = \"text-align: right;\">0</td><td style = \"text-align: right;\">0</td><td style = \"text-align: right;\">0</td><td style = \"text-align: right;\">2</td><td style = \"text-align: right;\">2006</td><td style = \"text-align: right;\">1</td><td style = \"text-align: right;\">0</td><td style = \"text-align: right;\">0</td><td style = \"text-align: right;\">0</td><td style = \"text-align: right;\">0</td><td style = \"text-align: right;\">0</td><td style = \"text-align: right;\">1</td><td style = \"text-align: right;\">0</td><td style = \"text-align: right;\">0</td><td style = \"text-align: right;\">0</td><td style = \"text-align: right;\">0</td><td style = \"text-align: right;\">1</td><td style = \"text-align: right;\">0</td><td style = \"text-align: right;\">0</td><td style = \"text-align: right;\">0</td><td style = \"text-align: right;\">0</td><td style = \"text-align: right;\">0</td><td style = \"text-align: right;\">0</td><td style = \"text-align: right;\">0</td><td style = \"text-align: right;\">0</td><td style = \"text-align: right;\">0</td><td style = \"text-align: right;\">0</td><td style = \"text-align: right;\">0</td><td style = \"text-align: right;\">0</td><td style = \"text-align: right;\">0</td><td style = \"text-align: right;\">0</td><td style = \"text-align: right;\">0</td><td style = \"text-align: right;\">0</td><td style = \"text-align: right;\">0</td><td style = \"text-align: right;\">0</td><td style = \"text-align: right;\">0</td><td style = \"text-align: right;\">0</td><td style = \"text-align: right;\">0</td><td style = \"text-align: right;\">0</td><td style = \"text-align: right;\">1</td><td style = \"text-align: right;\">0</td><td style = \"text-align: right;\">0</td><td style = \"text-align: right;\">0</td><td style = \"text-align: right;\">0</td><td style = \"text-align: right;\">0</td><td style = \"text-align: right;\">&ctdot;</td></tr><tr><td class = \"rowNumber\" style = \"font-weight: bold; text-align: right;\">5</td><td style = \"text-align: left;\">84</td><td style = \"text-align: right;\">14260</td><td style = \"text-align: right;\">1</td><td style = \"text-align: right;\">0</td><td style = \"text-align: right;\">2</td><td style = \"text-align: right;\">2</td><td style = \"text-align: right;\">3</td><td style = \"text-align: right;\">2000</td><td style = \"text-align: right;\">2000</td><td style = \"text-align: right;\">8</td><td style = \"text-align: right;\">5</td><td style = \"text-align: left;\">350</td><td style = \"text-align: right;\">3</td><td style = \"text-align: right;\">2</td><td style = \"text-align: right;\">3</td><td style = \"text-align: right;\">7</td><td style = \"text-align: right;\">4</td><td style = \"text-align: right;\">3</td><td style = \"text-align: right;\">3</td><td style = \"text-align: right;\">6</td><td style = \"text-align: right;\">655</td><td style = \"text-align: right;\">1</td><td style = \"text-align: right;\">0</td><td style = \"text-align: right;\">490</td><td style = \"text-align: right;\">1145</td><td style = \"text-align: right;\">4</td><td style = \"text-align: right;\">1</td><td style = \"text-align: right;\">1</td><td style = \"text-align: right;\">3</td><td style = \"text-align: right;\">1145</td><td style = \"text-align: right;\">1053</td><td style = \"text-align: right;\">0</td><td style = \"text-align: right;\">2198</td><td style = \"text-align: right;\">1</td><td style = \"text-align: right;\">0</td><td style = \"text-align: right;\">2</td><td style = \"text-align: right;\">1</td><td style = \"text-align: right;\">4</td><td style = \"text-align: right;\">1</td><td style = \"text-align: right;\">3</td><td style = \"text-align: right;\">9</td><td style = \"text-align: right;\">5</td><td style = \"text-align: left;\">2000</td><td style = \"text-align: right;\">2</td><td style = \"text-align: right;\">3</td><td style = \"text-align: right;\">836</td><td style = \"text-align: right;\">3</td><td style = \"text-align: right;\">3</td><td style = \"text-align: right;\">2</td><td style = \"text-align: right;\">192</td><td style = \"text-align: right;\">84</td><td style = \"text-align: right;\">0</td><td style = \"text-align: right;\">0</td><td style = \"text-align: right;\">0</td><td style = \"text-align: right;\">0</td><td style = \"text-align: right;\">0</td><td style = \"text-align: right;\">0</td><td style = \"text-align: right;\">0</td><td style = \"text-align: right;\">12</td><td style = \"text-align: right;\">2008</td><td style = \"text-align: right;\">1</td><td style = \"text-align: right;\">0</td><td style = \"text-align: right;\">0</td><td style = \"text-align: right;\">0</td><td style = \"text-align: right;\">0</td><td style = \"text-align: right;\">1</td><td style = \"text-align: right;\">0</td><td style = \"text-align: right;\">0</td><td style = \"text-align: right;\">0</td><td style = \"text-align: right;\">0</td><td style = \"text-align: right;\">0</td><td style = \"text-align: right;\">0</td><td style = \"text-align: right;\">1</td><td style = \"text-align: right;\">0</td><td style = \"text-align: right;\">0</td><td style = \"text-align: right;\">0</td><td style = \"text-align: right;\">0</td><td style = \"text-align: right;\">0</td><td style = \"text-align: right;\">0</td><td style = \"text-align: right;\">0</td><td style = \"text-align: right;\">0</td><td style = \"text-align: right;\">0</td><td style = \"text-align: right;\">0</td><td style = \"text-align: right;\">0</td><td style = \"text-align: right;\">0</td><td style = \"text-align: right;\">0</td><td style = \"text-align: right;\">0</td><td style = \"text-align: right;\">0</td><td style = \"text-align: right;\">0</td><td style = \"text-align: right;\">0</td><td style = \"text-align: right;\">0</td><td style = \"text-align: right;\">0</td><td style = \"text-align: right;\">0</td><td style = \"text-align: right;\">0</td><td style = \"text-align: right;\">1</td><td style = \"text-align: right;\">0</td><td style = \"text-align: right;\">0</td><td style = \"text-align: right;\">0</td><td style = \"text-align: right;\">0</td><td style = \"text-align: right;\">0</td><td style = \"text-align: right;\">&ctdot;</td></tr></tbody></table></div>"
      ],
      "text/latex": [
       "\\begin{tabular}{r|ccccccccc}\n",
       "\t& LotFrontage & LotArea & Street & Alley & LotShape & LandSlope & Utilities & YearBuilt & \\\\\n",
       "\t\\hline\n",
       "\t& String3 & Int64 & Int64 & Int64 & Int64 & Int64 & Int64 & Int64 & \\\\\n",
       "\t\\hline\n",
       "\t1 & 65 & 8450 & 1 & 0 & 3 & 2 & 3 & 2003 & $\\dots$ \\\\\n",
       "\t2 & 80 & 9600 & 1 & 0 & 3 & 2 & 3 & 1976 & $\\dots$ \\\\\n",
       "\t3 & 68 & 11250 & 1 & 0 & 2 & 2 & 3 & 2001 & $\\dots$ \\\\\n",
       "\t4 & 60 & 9550 & 1 & 0 & 2 & 2 & 3 & 1915 & $\\dots$ \\\\\n",
       "\t5 & 84 & 14260 & 1 & 0 & 2 & 2 & 3 & 2000 & $\\dots$ \\\\\n",
       "\\end{tabular}\n"
      ],
      "text/plain": [
       "\u001b[1m5×226 DataFrame\u001b[0m\n",
       "\u001b[1m Row \u001b[0m│\u001b[1m LotFrontage \u001b[0m\u001b[1m LotArea \u001b[0m\u001b[1m Street \u001b[0m\u001b[1m Alley \u001b[0m\u001b[1m LotShape \u001b[0m\u001b[1m LandSlope \u001b[0m\u001b[1m Utilities \u001b[0m\u001b[1m Ye\u001b[0m ⋯\n",
       "     │\u001b[90m String3     \u001b[0m\u001b[90m Int64   \u001b[0m\u001b[90m Int64  \u001b[0m\u001b[90m Int64 \u001b[0m\u001b[90m Int64    \u001b[0m\u001b[90m Int64     \u001b[0m\u001b[90m Int64     \u001b[0m\u001b[90m In\u001b[0m ⋯\n",
       "─────┼──────────────────────────────────────────────────────────────────────────\n",
       "   1 │ 65              8450       1      0         3          2          3     ⋯\n",
       "   2 │ 80              9600       1      0         3          2          3\n",
       "   3 │ 68             11250       1      0         2          2          3\n",
       "   4 │ 60              9550       1      0         2          2          3\n",
       "   5 │ 84             14260       1      0         2          2          3     ⋯\n",
       "\u001b[36m                                                             219 columns omitted\u001b[0m"
      ]
     },
     "metadata": {},
     "output_type": "display_data"
    }
   ],
   "source": [
    "Xdf_clean = preprocess_categorical_features(Xdf_clean)\n",
    "first(Xdf_clean, 5)"
   ]
  },
  {
   "attachments": {},
   "cell_type": "markdown",
   "metadata": {},
   "source": [
    "## Converting features to type Float64"
   ]
  },
  {
   "cell_type": "code",
   "execution_count": 11,
   "metadata": {},
   "outputs": [
    {
     "data": {
      "text/plain": [
       "Dict{DataType, Vector{Symbol}} with 3 entries:\n",
       "  Int64   => [:LotArea, :Street, :Alley, :LotShape, :LandSlope, :Utilities, :Ye…\n",
       "  String7 => [:MasVnrArea, :GarageYrBlt]\n",
       "  String3 => [:LotFrontage]"
      ]
     },
     "metadata": {},
     "output_type": "display_data"
    }
   ],
   "source": [
    "typesToColumns = mapTypesToColumns(Xdf_clean)"
   ]
  },
  {
   "cell_type": "code",
   "execution_count": 12,
   "metadata": {},
   "outputs": [],
   "source": [
    "# Ints to Floats\n",
    "Xdf_clean[!, typesToColumns[Int64]] = convert.(Float64, Xdf_clean[!, typesToColumns[Int64]]);"
   ]
  },
  {
   "cell_type": "code",
   "execution_count": 13,
   "metadata": {},
   "outputs": [],
   "source": [
    "\n",
    "for column in typesToColumns[String7]\n",
    "    Xdf_clean[!, column] .= parseStrings(String7, Xdf_clean[!, column])\n",
    "end\n"
   ]
  },
  {
   "cell_type": "code",
   "execution_count": 14,
   "metadata": {},
   "outputs": [],
   "source": [
    "\n",
    "for column in typesToColumns[String3]\n",
    "    Xdf_clean[!, column] .= parseStrings(String3, Xdf_clean[!, column])\n",
    "end\n"
   ]
  },
  {
   "cell_type": "code",
   "execution_count": 15,
   "metadata": {},
   "outputs": [
    {
     "data": {
      "text/plain": [
       "Dict{DataType, Vector{Symbol}} with 1 entry:\n",
       "  Float64 => [:LotFrontage, :LotArea, :Street, :Alley, :LotShape, :LandSlope, :…"
      ]
     },
     "metadata": {},
     "output_type": "display_data"
    }
   ],
   "source": [
    "# Sanity check: if everything is ok, the following should result in a map with a single key, Float64\n",
    "mapTypesToColumns(Xdf_clean)"
   ]
  },
  {
   "attachments": {},
   "cell_type": "markdown",
   "metadata": {},
   "source": [
    "## Updating the P matrix to include new one hot feautres"
   ]
  },
  {
   "cell_type": "code",
   "execution_count": 16,
   "metadata": {},
   "outputs": [],
   "source": [
    "# process P.csv and update it depending on the onehot encoding\n",
    "feature_partitions = CSV.read(\"P.csv\", DataFrame, delim=';')\n",
    "new_column_names = names(Xdf_clean)\n",
    "\n",
    "# Create an empty DataFrame to store the updated feature_partitions\n",
    "col_names = Symbol.(names(feature_partitions))\n",
    "col_types = eltype.(eachcol(feature_partitions))\n",
    "named_tuple = (; zip(col_names, type[] for type in col_types )...)\n",
    "updated_feature_partitions = DataFrame(named_tuple) \n",
    "\n",
    "\n",
    "\n",
    "# Iterate through the original features\n",
    "for row in eachrow(feature_partitions)\n",
    "    old_col = row[1]\n",
    "    partition_values = row[2:end]\n",
    "    \n",
    "    # Check if the old feature exists in the new column names\n",
    "    if old_col in new_column_names\n",
    "        # If it exists, assign the partition values from the original CSV\n",
    "        push!(updated_feature_partitions, (old_col, partition_values...))\n",
    "    else\n",
    "        # If it doesn't exist, it's a one-hot encoded feature\n",
    "        # Find the corresponding one-hot encoded columns\n",
    "        onehot_cols = filter(col -> startswith(col, old_col * \"_\"), new_column_names)\n",
    "        \n",
    "        # For each one-hot encoded column, assign the partition values from the original CSV\n",
    "        for onehot_col in onehot_cols\n",
    "            push!(updated_feature_partitions, (onehot_col, partition_values...), promote=true)\n",
    "        end\n",
    "    end\n",
    "end\n"
   ]
  },
  {
   "cell_type": "code",
   "execution_count": 17,
   "metadata": {},
   "outputs": [],
   "source": [
    "\n",
    "# Write the updated feature_partitions DataFrame to a new CSV file with the \";\" delimiter\n",
    "#CSV.write(\"updated_feature_partitions.csv\", updated_feature_partitions, delim=';')\n",
    "Pdf = updated_feature_partitions;"
   ]
  },
  {
   "attachments": {},
   "cell_type": "markdown",
   "metadata": {},
   "source": [
    "## Creating P and X matrix"
   ]
  },
  {
   "cell_type": "code",
   "execution_count": 18,
   "metadata": {},
   "outputs": [
    {
     "data": {
      "text/plain": [
       "((226, 10), (1460, 226))"
      ]
     },
     "metadata": {},
     "output_type": "display_data"
    }
   ],
   "source": [
    "P = Matrix(Pdf[!, 2:end])\n",
    "X = Matrix(Xdf_clean[!, 1:end])\n",
    "size(P), size(X)"
   ]
  },
  {
   "attachments": {},
   "cell_type": "markdown",
   "metadata": {},
   "source": [
    "# Training"
   ]
  },
  {
   "attachments": {},
   "cell_type": "markdown",
   "metadata": {},
   "source": [
    "## Parameters"
   ]
  },
  {
   "cell_type": "code",
   "execution_count": 19,
   "metadata": {},
   "outputs": [
    {
     "data": {
      "text/plain": [
       "10.0"
      ]
     },
     "metadata": {},
     "output_type": "display_data"
    }
   ],
   "source": [
    "η=10.0"
   ]
  },
  {
   "cell_type": "code",
   "execution_count": 22,
   "metadata": {},
   "outputs": [
    {
     "data": {
      "text/plain": [
       "1460-element Vector{Int64}:\n",
       " 208500\n",
       " 181500\n",
       " 223500\n",
       " 140000\n",
       " 250000\n",
       " 143000\n",
       " 307000\n",
       " 200000\n",
       " 129900\n",
       " 118000\n",
       "      ⋮\n",
       " 287090\n",
       " 145000\n",
       "  84500\n",
       " 185000\n",
       " 175000\n",
       " 210000\n",
       " 266500\n",
       " 142125\n",
       " 147500"
      ]
     },
     "metadata": {},
     "output_type": "display_data"
    }
   ],
   "source": [
    "y"
   ]
  },
  {
   "attachments": {},
   "cell_type": "markdown",
   "metadata": {},
   "source": [
    "## PartitionedLS model"
   ]
  },
  {
   "cell_type": "code",
   "execution_count": 24,
   "metadata": {},
   "outputs": [
    {
     "data": {
      "text/plain": [
       "(opt = 1.2243547167598566e6,\n",
       " model = PartitionedLS.PartLSModel([0.0, 7.846207916172913e-6, 0.0, 0.0, 0.0, 0.0, 0.0, 0.005530551769617635, 0.0019167410854641779, 0.27623577952812534  …  0.0, 0.0, 0.3525103807101436, 0.0, 0.0, 0.0, 0.44438310523157376, 0.0, 0.0, 0.0], [50154.61798117696, -30843.64020322489, 30075.440878040077, 59173.71944354697, 22440.520705863444, -16105.461443353382, 16600.623773025713, -3330.1029537054624, 20659.401728566947, -25466.640056817687], -44.13943160818834, [1 0 … 0 0; 1 0 … 0 0; … ; 0 0 … 0 1; 0 0 … 0 1]),\n",
       " nopen = 325,)"
      ]
     },
     "metadata": {},
     "output_type": "display_data"
    }
   ],
   "source": [
    "model = fit(BnB, X, Vector{Float64}(y), P, η=η, nnlsalg=:nnls)"
   ]
  },
  {
   "attachments": {},
   "cell_type": "markdown",
   "metadata": {},
   "source": [
    "## Regularized Least Squares model"
   ]
  },
  {
   "cell_type": "code",
   "execution_count": 25,
   "metadata": {},
   "outputs": [
    {
     "data": {
      "text/plain": [
       "([65.0 8450.0 … 0.0 1.0; 80.0 9600.0 … 0.0 1.0; … ; 68.0 9717.0 … 0.0 1.0; 75.0 9937.0 … 0.0 1.0], [1 0 … 0 0; 1 0 … 0 0; … ; 0 0 … 1 0; 0 0 … 0 1])"
      ]
     },
     "metadata": {},
     "output_type": "display_data"
    }
   ],
   "source": [
    "Xo, Po = homogeneousCoords(X, P)"
   ]
  },
  {
   "cell_type": "code",
   "execution_count": 26,
   "metadata": {},
   "outputs": [
    {
     "data": {
      "text/plain": [
       "-5.46533239049251"
      ]
     },
     "metadata": {},
     "output_type": "display_data"
    }
   ],
   "source": [
    "XX = Xo'Xo\n",
    "wo = inv(XX + η*I)Xo' * y\n",
    "lsq_w = wo[1:end-1]\n",
    "lsq_t = wo[end]"
   ]
  },
  {
   "attachments": {},
   "cell_type": "markdown",
   "metadata": {},
   "source": [
    "# Saving results"
   ]
  },
  {
   "cell_type": "code",
   "execution_count": 32,
   "metadata": {},
   "outputs": [
    {
     "data": {
      "text/plain": [
       "\"Results/lsq_t.csv\""
      ]
     },
     "metadata": {},
     "output_type": "display_data"
    }
   ],
   "source": [
    "(; α,β,t,P) = model.model\n",
    "alpha_df = DataFrame(colname=Pdf[!, 1], alpha = α[:,1])\n",
    "beta_df = DataFrame(group=names(Pdf)[2:end], beta = β[:, 1])\n",
    "t_df= DataFrame(t = t)\n",
    "\n",
    "CSV.write(\"Results/PartLS_alpha.csv\", alpha_df)\n",
    "CSV.write(\"Results/PartLS_beta.csv\", beta_df)\n",
    "CSV.write(\"Results/PartLS_t.csv\", t_df)\n",
    "\n",
    "lsq_w_df = DataFrame(colname=Pdf[!, 1], lsq_w = lsq_w)\n",
    "lsq_t_df = DataFrame(lsq_t = lsq_t)\n",
    "\n",
    "CSV.write(\"Results/lsq_w.csv\", lsq_w_df)\n",
    "CSV.write(\"Results/lsq_t.csv\", lsq_t_df)\n"
   ]
  },
  {
   "attachments": {},
   "cell_type": "markdown",
   "metadata": {},
   "source": [
    "# Analysis"
   ]
  },
  {
   "attachments": {},
   "cell_type": "markdown",
   "metadata": {},
   "source": [
    "**PartitionedLS accuracy**"
   ]
  },
  {
   "cell_type": "code",
   "execution_count": 34,
   "metadata": {},
   "outputs": [
    {
     "data": {
      "text/plain": [
       "18261.193582588734"
      ]
     },
     "metadata": {},
     "output_type": "display_data"
    }
   ],
   "source": [
    "mean(abs.(PartitionedLS.predict(model.model, X) - y))"
   ]
  },
  {
   "attachments": {},
   "cell_type": "markdown",
   "metadata": {},
   "source": [
    "**Least Squares accuracy**"
   ]
  },
  {
   "cell_type": "code",
   "execution_count": 35,
   "metadata": {},
   "outputs": [
    {
     "data": {
      "text/plain": [
       "16698.55971058107"
      ]
     },
     "metadata": {},
     "output_type": "display_data"
    }
   ],
   "source": [
    "mean(abs.(Xo * wo - y))"
   ]
  },
  {
   "attachments": {},
   "cell_type": "markdown",
   "metadata": {},
   "source": [
    "**Plotting**"
   ]
  },
  {
   "cell_type": "code",
   "execution_count": 37,
   "metadata": {},
   "outputs": [],
   "source": [
    "# Pkg.add(\"PlotlyJS\")\n",
    "using PlotlyJS"
   ]
  },
  {
   "cell_type": "code",
   "execution_count": 39,
   "metadata": {},
   "outputs": [],
   "source": [
    "betadf = DataFrame(groups=names(Pdf)[2:end], beta=vec(β));\n",
    "alphadf = DataFrame(colname=Pdf[!, 1], alpha=vec(α));\n",
    "lsq_w = DataFrame(colname=Pdf[!, 1], lsq_w=lsq_w);"
   ]
  },
  {
   "cell_type": "code",
   "execution_count": 41,
   "metadata": {},
   "outputs": [
    {
     "data": {
      "text/plain": [
       "\"Figures/beta.pdf\""
      ]
     },
     "metadata": {},
     "output_type": "display_data"
    }
   ],
   "source": [
    "layout = Layout(\n",
    "    xaxis_title=\"Groups\",\n",
    "    yaxis_title=\"β\",\n",
    "    font_family=\"Computer Modern\",\n",
    "    font_size=16\n",
    ")\n",
    "# plot(betadf, layout, x=:groups, y=:beta, kind=:bar)\n",
    "savefig(plot(betadf, layout, x=:groups, y=:beta, kind=:bar), \"Figures/beta.pdf\")"
   ]
  },
  {
   "cell_type": "code",
   "execution_count": 42,
   "metadata": {},
   "outputs": [
    {
     "data": {
      "text/plain": [
       "\"Figures/lsq_w.pdf\""
      ]
     },
     "metadata": {},
     "output_type": "display_data"
    }
   ],
   "source": [
    "layout = Layout(\n",
    "    xaxis_title=\"Features\",\n",
    "    yaxis_title=\"w\",\n",
    "    xaxis_ticks=:all,\n",
    "    font_family=\"Computer Modern\",\n",
    "    font_size=16\n",
    ")\n",
    "# savefig(plot(lsq_w, layout, x=:colname, y=:lsq_w, kind=:bar, xticks=:all), \"Figures/lsq_w.pdf\")\n",
    "savefig(plot(lsq_w, layout, x=:colname, y=:lsq_w, kind=:bar, xticks=lsq_w.colname), \"Figures/lsq_w.pdf\")"
   ]
  },
  {
   "cell_type": "code",
   "execution_count": 43,
   "metadata": {},
   "outputs": [],
   "source": [
    "\n",
    "layout = Layout(\n",
    "    xaxis_title=\"Feature\",\n",
    "    yaxis_title=\"α\",\n",
    "    font_family=\"Computer Modern\",\n",
    "    font_size=16,\n",
    "    rotation=45\n",
    ")\n",
    "for colName in names(Pdf)[2:end]\n",
    "    coldf = alphadf[Pdf[!, Symbol(colName)] .== 1, :]\n",
    "    savefig(plot(coldf, layout, x=:colname, y=:alpha, kind=:bar), \"Figures/PartLS_alpha_$colName.pdf\")\n",
    "end\n"
   ]
  }
 ],
 "metadata": {
  "kernelspec": {
   "display_name": "Julia 1.10.2",
   "language": "julia",
   "name": "julia-1.10"
  },
  "language_info": {
   "file_extension": ".jl",
   "mimetype": "application/julia",
   "name": "julia",
   "version": "1.10.2"
  },
  "orig_nbformat": 4
 },
 "nbformat": 4,
 "nbformat_minor": 2
}
